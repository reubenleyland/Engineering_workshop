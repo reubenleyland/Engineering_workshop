{
 "cells": [
  {
   "cell_type": "markdown",
   "id": "edd3aa97-5bbc-44fc-9cf2-6b14f67c6678",
   "metadata": {},
   "source": [
    "## INTRODUCTION TO PYHTON\n",
    "To help with your Mahcine Learning project, this 'Jupyter Notebook' explains some of the key features of python. A notebook is an interactive way of seeing python code and a good place to learn how to write some for yourself.\n",
    "\n",
    "To 'run' a cell, click on the cell you want and press the run triangle symbol above. If any of the code is confusing, please look at the pdf 'Python-An Introduction'. To get you started, here are some simple bits of python code; play with them to see what they do and try to understand how they work!"
   ]
  },
  {
   "cell_type": "code",
   "execution_count": 3,
   "id": "c7a50ad9-b3f0-4374-8576-faf22b7674a7",
   "metadata": {},
   "outputs": [
    {
     "name": "stdout",
     "output_type": "stream",
     "text": [
      "Hello World\n"
     ]
    }
   ],
   "source": [
    "##A very simple first function\n",
    "def talk(words):\n",
    "    print(words)\n",
    "\n",
    "to_say='Hello World'\n",
    "talk(to_say)"
   ]
  },
  {
   "cell_type": "code",
   "execution_count": 1,
   "id": "477bfe07-f869-43c6-a5cf-06daf65848ba",
   "metadata": {},
   "outputs": [
    {
     "name": "stdout",
     "output_type": "stream",
     "text": [
      "6.674e-09\n"
     ]
    }
   ],
   "source": [
    "# Here we define a function. This one is useful for physics.\n",
    "def gravity(Mass1, Mass2, Distance):\n",
    "    G = 6.674 * (10**-11)  \n",
    "    force = G * Mass1 * Mass2 / (Distance**2)  \n",
    "    return force\n",
    "\n",
    "# Test our function\n",
    "f = gravity(10, 10, 1)\n",
    "print(f)\n"
   ]
  },
  {
   "cell_type": "code",
   "execution_count": 4,
   "id": "468bc194-554f-43a7-9f61-e128d090047d",
   "metadata": {},
   "outputs": [
    {
     "name": "stdin",
     "output_type": "stream",
     "text": [
      "Enter your name:  Reuben\n"
     ]
    },
    {
     "name": "stdout",
     "output_type": "stream",
     "text": [
      "Hello, Reuben! Welcome to the Python demonstration.\n"
     ]
    }
   ],
   "source": [
    "# Function to get user input and return a personalised greeting\n",
    "def greet_user():\n",
    "    name = input(\"Enter your name: \")\n",
    "    return f\"Hello, {name}! Welcome to the Python demonstration.\"\n",
    "\n",
    "# Get user input and display a personalised greeting\n",
    "greeting = greet_user()\n",
    "print(greeting)"
   ]
  },
  {
   "cell_type": "code",
   "execution_count": 1,
   "id": "725bd802-1dcc-4665-9841-0a2e02564c05",
   "metadata": {},
   "outputs": [
    {
     "name": "stdout",
     "output_type": "stream",
     "text": [
      "Welcome to Noughts and Crosses!\n",
      "     \n",
      "     \n",
      "     \n"
     ]
    },
    {
     "name": "stdin",
     "output_type": "stream",
     "text": [
      "Enter row (0, 1, or 2):  1\n",
      "Enter column (0, 1, or 2):  1\n"
     ]
    },
    {
     "name": "stdout",
     "output_type": "stream",
     "text": [
      "     \n",
      "  X  \n",
      "     \n",
      "Computer's move:\n",
      "O    \n",
      "  X  \n",
      "     \n"
     ]
    },
    {
     "name": "stdin",
     "output_type": "stream",
     "text": [
      "Enter row (0, 1, or 2):  0\n",
      "Enter column (0, 1, or 2):  1\n"
     ]
    },
    {
     "name": "stdout",
     "output_type": "stream",
     "text": [
      "O X  \n",
      "  X  \n",
      "     \n",
      "Computer's move:\n",
      "O X  \n",
      "  X  \n",
      "  O  \n"
     ]
    },
    {
     "name": "stdin",
     "output_type": "stream",
     "text": [
      "Enter row (0, 1, or 2):  1\n",
      "Enter column (0, 1, or 2):  0\n"
     ]
    },
    {
     "name": "stdout",
     "output_type": "stream",
     "text": [
      "O X  \n",
      "X X  \n",
      "  O  \n",
      "Computer's move:\n",
      "O X  \n",
      "X X O\n",
      "  O  \n"
     ]
    },
    {
     "name": "stdin",
     "output_type": "stream",
     "text": [
      "Enter row (0, 1, or 2):  2\n",
      "Enter column (0, 1, or 2):  0\n"
     ]
    },
    {
     "name": "stdout",
     "output_type": "stream",
     "text": [
      "O X  \n",
      "X X O\n",
      "X O  \n",
      "Computer's move:\n",
      "O X O\n",
      "X X O\n",
      "X O  \n"
     ]
    },
    {
     "name": "stdin",
     "output_type": "stream",
     "text": [
      "Enter row (0, 1, or 2):  22\n",
      "Enter column (0, 1, or 2):  2\n"
     ]
    },
    {
     "name": "stdout",
     "output_type": "stream",
     "text": [
      "Invalid move. Try again.\n"
     ]
    },
    {
     "name": "stdin",
     "output_type": "stream",
     "text": [
      "Enter row (0, 1, or 2):  2\n",
      "Enter column (0, 1, or 2):  2\n"
     ]
    },
    {
     "name": "stdout",
     "output_type": "stream",
     "text": [
      "O X O\n",
      "X X O\n",
      "X O X\n",
      "It's a tie!\n"
     ]
    }
   ],
   "source": [
    "## This script is quite a lot more complex, so don't worry about working out how it all works. Give it a run to play a game but good luck winning it!\n",
    "\n",
    "\n",
    "import random\n",
    "\n",
    "#Build the board\n",
    "def print_board(board):\n",
    "    for row in board:\n",
    "        print(\" \".join(row))\n",
    "\n",
    "def check_winner(board, player):\n",
    "    # Check rows, columns, and diagonals for a winner\n",
    "    for i in range(3):\n",
    "        if all(board[i][j] == player for j in range(3)) or all(board[j][i] == player for j in range(3)):\n",
    "            return True\n",
    "    if all(board[i][i] == player for i in range(3)) or all(board[i][2 - i] == player for i in range(3)):\n",
    "        return True\n",
    "    return False\n",
    "\n",
    "def is_board_full(board):\n",
    "    return all(board[i][j] != ' ' for i in range(3) for j in range(3))\n",
    "\n",
    "def user_move(board):\n",
    "    while True:\n",
    "        try:\n",
    "            row = int(input(\"Enter row (0, 1, or 2): \"))\n",
    "            col = int(input(\"Enter column (0, 1, or 2): \"))\n",
    "            if 0 <= row < 3 and 0 <= col < 3 and board[row][col] == ' ':\n",
    "                return row, col\n",
    "            else:\n",
    "                print(\"Invalid move. Try again.\")   # If the user makes an invalid move tell them!\n",
    "        except ValueError:\n",
    "            print(\"Invalid input. Enter a number.\")\n",
    "\n",
    "def get_empty_cells(board):\n",
    "    return [(i, j) for i in range(3) for j in range(3) if board[i][j] == ' ']\n",
    "\n",
    "def computer_move(board):\n",
    "    best_score = float('-inf')\n",
    "    best_move = None\n",
    "\n",
    "    for row, col in get_empty_cells(board):\n",
    "        board[row][col] = 'O'\n",
    "        score = minimax(board, 0, False)\n",
    "        board[row][col] = ' '\n",
    "\n",
    "        if score > best_score:\n",
    "            best_score = score\n",
    "            best_move = (row, col)\n",
    "\n",
    "    return best_move\n",
    "\n",
    "def minimax(board, depth, is_maximizing):\n",
    "    scores = {'X': -1, 'O': 1, 'tie': 0}\n",
    "\n",
    "    if check_winner(board, 'X'):\n",
    "        return scores['X']\n",
    "\n",
    "    if check_winner(board, 'O'):\n",
    "        return scores['O']\n",
    "\n",
    "    if is_board_full(board):\n",
    "        return scores['tie']\n",
    "\n",
    "    if is_maximizing:\n",
    "        max_eval = float('-inf')\n",
    "        for row, col in get_empty_cells(board):\n",
    "            board[row][col] = 'O'\n",
    "            eval = minimax(board, depth + 1, False)\n",
    "            board[row][col] = ' '\n",
    "            max_eval = max(max_eval, eval)\n",
    "        return max_eval\n",
    "    else:\n",
    "        min_eval = float('inf')\n",
    "        for row, col in get_empty_cells(board):\n",
    "            board[row][col] = 'X'\n",
    "            eval = minimax(board, depth + 1, True)\n",
    "            board[row][col] = ' '\n",
    "            min_eval = min(min_eval, eval)\n",
    "        return min_eval\n",
    "\n",
    "def play_game():\n",
    "    board = [[' ' for _ in range(3)] for _ in range(3)]\n",
    "    current_player = 'X'\n",
    "\n",
    "    while True:\n",
    "        print_board(board)\n",
    "\n",
    "        if current_player == 'X':\n",
    "            row, col = user_move(board)\n",
    "        else:\n",
    "            print(\"Computer's move:\")\n",
    "            row, col = computer_move(board)\n",
    "\n",
    "        board[row][col] = current_player\n",
    "\n",
    "        if check_winner(board, current_player):\n",
    "            print_board(board)\n",
    "            print(f\"{current_player} wins!\")\n",
    "            break\n",
    "        elif is_board_full(board):\n",
    "            print_board(board)\n",
    "            print(\"It's a tie!\")\n",
    "            break\n",
    "\n",
    "        current_player = 'O' if current_player == 'X' else 'X'\n",
    "\n",
    "if __name__ == \"__main__\":\n",
    "    print(\"Welcome to Noughts and Crosses!\")\n",
    "    play_game()\n"
   ]
  },
  {
   "cell_type": "markdown",
   "id": "11580640-15b9-459c-b6e7-75bd02af7173",
   "metadata": {},
   "source": [
    "Hopefuly you enjoyed playing tic-tac-toe; don't waste your time trying to beat it, I've made it so the comptuer will never lose. If your interested in knowing how, see here: https://en.wikipedia.org/wiki/Minimax"
   ]
  },
  {
   "cell_type": "markdown",
   "id": "07ff9659-88da-4fef-afa5-dc74f3f3948d",
   "metadata": {},
   "source": [
    "You're now ready to move onto the main Machine Learning project. Come back to this notebook and the pdf if you're stuck. Googling and Ai are also very useful for speeding up problem solving! Good Luck."
   ]
  },
  {
   "cell_type": "code",
   "execution_count": null,
   "id": "872b0690-7174-4925-ba85-ff89a4bd1687",
   "metadata": {},
   "outputs": [],
   "source": []
  }
 ],
 "metadata": {
  "kernelspec": {
   "display_name": "Python 3 (ipykernel)",
   "language": "python",
   "name": "python3"
  },
  "language_info": {
   "codemirror_mode": {
    "name": "ipython",
    "version": 3
   },
   "file_extension": ".py",
   "mimetype": "text/x-python",
   "name": "python",
   "nbconvert_exporter": "python",
   "pygments_lexer": "ipython3",
   "version": "3.11.5"
  }
 },
 "nbformat": 4,
 "nbformat_minor": 5
}
